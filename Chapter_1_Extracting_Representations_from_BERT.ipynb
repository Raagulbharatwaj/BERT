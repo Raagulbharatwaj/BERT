{
  "nbformat": 4,
  "nbformat_minor": 0,
  "metadata": {
    "colab": {
      "provenance": [],
      "authorship_tag": "ABX9TyNpP2BhjrMJz0ebnPYlK7HN",
      "include_colab_link": true
    },
    "kernelspec": {
      "name": "python3",
      "display_name": "Python 3"
    },
    "language_info": {
      "name": "python"
    },
    "widgets": {
      "application/vnd.jupyter.widget-state+json": {
        "92afc8b1076642bfbd034a736dd7f73a": {
          "model_module": "@jupyter-widgets/controls",
          "model_name": "HBoxModel",
          "model_module_version": "1.5.0",
          "state": {
            "_dom_classes": [],
            "_model_module": "@jupyter-widgets/controls",
            "_model_module_version": "1.5.0",
            "_model_name": "HBoxModel",
            "_view_count": null,
            "_view_module": "@jupyter-widgets/controls",
            "_view_module_version": "1.5.0",
            "_view_name": "HBoxView",
            "box_style": "",
            "children": [
              "IPY_MODEL_6f7ea9a86ef24e11bb647328f9511e98",
              "IPY_MODEL_d6d41e9faeb2497b8e0ec50704cdd8a8",
              "IPY_MODEL_1e05d5e4fb1140c3b12e8b526cd9e9ff"
            ],
            "layout": "IPY_MODEL_922e56fef33744be8da9490d1fd31d50"
          }
        },
        "6f7ea9a86ef24e11bb647328f9511e98": {
          "model_module": "@jupyter-widgets/controls",
          "model_name": "HTMLModel",
          "model_module_version": "1.5.0",
          "state": {
            "_dom_classes": [],
            "_model_module": "@jupyter-widgets/controls",
            "_model_module_version": "1.5.0",
            "_model_name": "HTMLModel",
            "_view_count": null,
            "_view_module": "@jupyter-widgets/controls",
            "_view_module_version": "1.5.0",
            "_view_name": "HTMLView",
            "description": "",
            "description_tooltip": null,
            "layout": "IPY_MODEL_f3d663c7d5e04199885bf5a925c8255e",
            "placeholder": "​",
            "style": "IPY_MODEL_70a78500b48f4c1ca66c6f89dd469355",
            "value": "Downloading pytorch_model.bin: 100%"
          }
        },
        "d6d41e9faeb2497b8e0ec50704cdd8a8": {
          "model_module": "@jupyter-widgets/controls",
          "model_name": "FloatProgressModel",
          "model_module_version": "1.5.0",
          "state": {
            "_dom_classes": [],
            "_model_module": "@jupyter-widgets/controls",
            "_model_module_version": "1.5.0",
            "_model_name": "FloatProgressModel",
            "_view_count": null,
            "_view_module": "@jupyter-widgets/controls",
            "_view_module_version": "1.5.0",
            "_view_name": "ProgressView",
            "bar_style": "success",
            "description": "",
            "description_tooltip": null,
            "layout": "IPY_MODEL_485262c60ec54e6590ab7a07e7f487c9",
            "max": 440473133,
            "min": 0,
            "orientation": "horizontal",
            "style": "IPY_MODEL_fc932a5d99eb46cd9b996431ff0ceb93",
            "value": 440473133
          }
        },
        "1e05d5e4fb1140c3b12e8b526cd9e9ff": {
          "model_module": "@jupyter-widgets/controls",
          "model_name": "HTMLModel",
          "model_module_version": "1.5.0",
          "state": {
            "_dom_classes": [],
            "_model_module": "@jupyter-widgets/controls",
            "_model_module_version": "1.5.0",
            "_model_name": "HTMLModel",
            "_view_count": null,
            "_view_module": "@jupyter-widgets/controls",
            "_view_module_version": "1.5.0",
            "_view_name": "HTMLView",
            "description": "",
            "description_tooltip": null,
            "layout": "IPY_MODEL_f8753c8ffd194a68bdd12f1a9fa70d00",
            "placeholder": "​",
            "style": "IPY_MODEL_6240462d0fab44a5bf5315ec7f52eb20",
            "value": " 420M/420M [00:10&lt;00:00, 42.0MB/s]"
          }
        },
        "922e56fef33744be8da9490d1fd31d50": {
          "model_module": "@jupyter-widgets/base",
          "model_name": "LayoutModel",
          "model_module_version": "1.2.0",
          "state": {
            "_model_module": "@jupyter-widgets/base",
            "_model_module_version": "1.2.0",
            "_model_name": "LayoutModel",
            "_view_count": null,
            "_view_module": "@jupyter-widgets/base",
            "_view_module_version": "1.2.0",
            "_view_name": "LayoutView",
            "align_content": null,
            "align_items": null,
            "align_self": null,
            "border": null,
            "bottom": null,
            "display": null,
            "flex": null,
            "flex_flow": null,
            "grid_area": null,
            "grid_auto_columns": null,
            "grid_auto_flow": null,
            "grid_auto_rows": null,
            "grid_column": null,
            "grid_gap": null,
            "grid_row": null,
            "grid_template_areas": null,
            "grid_template_columns": null,
            "grid_template_rows": null,
            "height": null,
            "justify_content": null,
            "justify_items": null,
            "left": null,
            "margin": null,
            "max_height": null,
            "max_width": null,
            "min_height": null,
            "min_width": null,
            "object_fit": null,
            "object_position": null,
            "order": null,
            "overflow": null,
            "overflow_x": null,
            "overflow_y": null,
            "padding": null,
            "right": null,
            "top": null,
            "visibility": null,
            "width": null
          }
        },
        "f3d663c7d5e04199885bf5a925c8255e": {
          "model_module": "@jupyter-widgets/base",
          "model_name": "LayoutModel",
          "model_module_version": "1.2.0",
          "state": {
            "_model_module": "@jupyter-widgets/base",
            "_model_module_version": "1.2.0",
            "_model_name": "LayoutModel",
            "_view_count": null,
            "_view_module": "@jupyter-widgets/base",
            "_view_module_version": "1.2.0",
            "_view_name": "LayoutView",
            "align_content": null,
            "align_items": null,
            "align_self": null,
            "border": null,
            "bottom": null,
            "display": null,
            "flex": null,
            "flex_flow": null,
            "grid_area": null,
            "grid_auto_columns": null,
            "grid_auto_flow": null,
            "grid_auto_rows": null,
            "grid_column": null,
            "grid_gap": null,
            "grid_row": null,
            "grid_template_areas": null,
            "grid_template_columns": null,
            "grid_template_rows": null,
            "height": null,
            "justify_content": null,
            "justify_items": null,
            "left": null,
            "margin": null,
            "max_height": null,
            "max_width": null,
            "min_height": null,
            "min_width": null,
            "object_fit": null,
            "object_position": null,
            "order": null,
            "overflow": null,
            "overflow_x": null,
            "overflow_y": null,
            "padding": null,
            "right": null,
            "top": null,
            "visibility": null,
            "width": null
          }
        },
        "70a78500b48f4c1ca66c6f89dd469355": {
          "model_module": "@jupyter-widgets/controls",
          "model_name": "DescriptionStyleModel",
          "model_module_version": "1.5.0",
          "state": {
            "_model_module": "@jupyter-widgets/controls",
            "_model_module_version": "1.5.0",
            "_model_name": "DescriptionStyleModel",
            "_view_count": null,
            "_view_module": "@jupyter-widgets/base",
            "_view_module_version": "1.2.0",
            "_view_name": "StyleView",
            "description_width": ""
          }
        },
        "485262c60ec54e6590ab7a07e7f487c9": {
          "model_module": "@jupyter-widgets/base",
          "model_name": "LayoutModel",
          "model_module_version": "1.2.0",
          "state": {
            "_model_module": "@jupyter-widgets/base",
            "_model_module_version": "1.2.0",
            "_model_name": "LayoutModel",
            "_view_count": null,
            "_view_module": "@jupyter-widgets/base",
            "_view_module_version": "1.2.0",
            "_view_name": "LayoutView",
            "align_content": null,
            "align_items": null,
            "align_self": null,
            "border": null,
            "bottom": null,
            "display": null,
            "flex": null,
            "flex_flow": null,
            "grid_area": null,
            "grid_auto_columns": null,
            "grid_auto_flow": null,
            "grid_auto_rows": null,
            "grid_column": null,
            "grid_gap": null,
            "grid_row": null,
            "grid_template_areas": null,
            "grid_template_columns": null,
            "grid_template_rows": null,
            "height": null,
            "justify_content": null,
            "justify_items": null,
            "left": null,
            "margin": null,
            "max_height": null,
            "max_width": null,
            "min_height": null,
            "min_width": null,
            "object_fit": null,
            "object_position": null,
            "order": null,
            "overflow": null,
            "overflow_x": null,
            "overflow_y": null,
            "padding": null,
            "right": null,
            "top": null,
            "visibility": null,
            "width": null
          }
        },
        "fc932a5d99eb46cd9b996431ff0ceb93": {
          "model_module": "@jupyter-widgets/controls",
          "model_name": "ProgressStyleModel",
          "model_module_version": "1.5.0",
          "state": {
            "_model_module": "@jupyter-widgets/controls",
            "_model_module_version": "1.5.0",
            "_model_name": "ProgressStyleModel",
            "_view_count": null,
            "_view_module": "@jupyter-widgets/base",
            "_view_module_version": "1.2.0",
            "_view_name": "StyleView",
            "bar_color": null,
            "description_width": ""
          }
        },
        "f8753c8ffd194a68bdd12f1a9fa70d00": {
          "model_module": "@jupyter-widgets/base",
          "model_name": "LayoutModel",
          "model_module_version": "1.2.0",
          "state": {
            "_model_module": "@jupyter-widgets/base",
            "_model_module_version": "1.2.0",
            "_model_name": "LayoutModel",
            "_view_count": null,
            "_view_module": "@jupyter-widgets/base",
            "_view_module_version": "1.2.0",
            "_view_name": "LayoutView",
            "align_content": null,
            "align_items": null,
            "align_self": null,
            "border": null,
            "bottom": null,
            "display": null,
            "flex": null,
            "flex_flow": null,
            "grid_area": null,
            "grid_auto_columns": null,
            "grid_auto_flow": null,
            "grid_auto_rows": null,
            "grid_column": null,
            "grid_gap": null,
            "grid_row": null,
            "grid_template_areas": null,
            "grid_template_columns": null,
            "grid_template_rows": null,
            "height": null,
            "justify_content": null,
            "justify_items": null,
            "left": null,
            "margin": null,
            "max_height": null,
            "max_width": null,
            "min_height": null,
            "min_width": null,
            "object_fit": null,
            "object_position": null,
            "order": null,
            "overflow": null,
            "overflow_x": null,
            "overflow_y": null,
            "padding": null,
            "right": null,
            "top": null,
            "visibility": null,
            "width": null
          }
        },
        "6240462d0fab44a5bf5315ec7f52eb20": {
          "model_module": "@jupyter-widgets/controls",
          "model_name": "DescriptionStyleModel",
          "model_module_version": "1.5.0",
          "state": {
            "_model_module": "@jupyter-widgets/controls",
            "_model_module_version": "1.5.0",
            "_model_name": "DescriptionStyleModel",
            "_view_count": null,
            "_view_module": "@jupyter-widgets/base",
            "_view_module_version": "1.2.0",
            "_view_name": "StyleView",
            "description_width": ""
          }
        }
      }
    }
  },
  "cells": [
    {
      "cell_type": "markdown",
      "metadata": {
        "id": "view-in-github",
        "colab_type": "text"
      },
      "source": [
        "<a href=\"https://colab.research.google.com/github/Raagulbharatwaj/BERT/blob/main/Chapter_1_Extracting_Representations_from_BERT.ipynb\" target=\"_parent\"><img src=\"https://colab.research.google.com/assets/colab-badge.svg\" alt=\"Open In Colab\"/></a>"
      ]
    },
    {
      "cell_type": "code",
      "execution_count": 1,
      "metadata": {
        "colab": {
          "base_uri": "https://localhost:8080/"
        },
        "id": "xRQEFAcTn789",
        "outputId": "1056e881-2fb6-4778-9ecb-f3c25fd210e4"
      },
      "outputs": [
        {
          "output_type": "stream",
          "name": "stdout",
          "text": [
            "Looking in indexes: https://pypi.org/simple, https://us-python.pkg.dev/colab-wheels/public/simple/\n",
            "Collecting transformers\n",
            "  Downloading transformers-4.21.2-py3-none-any.whl (4.7 MB)\n",
            "\u001b[K     |████████████████████████████████| 4.7 MB 5.3 MB/s \n",
            "\u001b[?25hRequirement already satisfied: pyyaml>=5.1 in /usr/local/lib/python3.7/dist-packages (from transformers) (6.0)\n",
            "Requirement already satisfied: filelock in /usr/local/lib/python3.7/dist-packages (from transformers) (3.8.0)\n",
            "Collecting huggingface-hub<1.0,>=0.1.0\n",
            "  Downloading huggingface_hub-0.9.1-py3-none-any.whl (120 kB)\n",
            "\u001b[K     |████████████████████████████████| 120 kB 44.7 MB/s \n",
            "\u001b[?25hRequirement already satisfied: numpy>=1.17 in /usr/local/lib/python3.7/dist-packages (from transformers) (1.21.6)\n",
            "Requirement already satisfied: packaging>=20.0 in /usr/local/lib/python3.7/dist-packages (from transformers) (21.3)\n",
            "Requirement already satisfied: importlib-metadata in /usr/local/lib/python3.7/dist-packages (from transformers) (4.12.0)\n",
            "Requirement already satisfied: tqdm>=4.27 in /usr/local/lib/python3.7/dist-packages (from transformers) (4.64.0)\n",
            "Requirement already satisfied: regex!=2019.12.17 in /usr/local/lib/python3.7/dist-packages (from transformers) (2022.6.2)\n",
            "Collecting tokenizers!=0.11.3,<0.13,>=0.11.1\n",
            "  Downloading tokenizers-0.12.1-cp37-cp37m-manylinux_2_12_x86_64.manylinux2010_x86_64.whl (6.6 MB)\n",
            "\u001b[K     |████████████████████████████████| 6.6 MB 33.5 MB/s \n",
            "\u001b[?25hRequirement already satisfied: requests in /usr/local/lib/python3.7/dist-packages (from transformers) (2.23.0)\n",
            "Requirement already satisfied: typing-extensions>=3.7.4.3 in /usr/local/lib/python3.7/dist-packages (from huggingface-hub<1.0,>=0.1.0->transformers) (4.1.1)\n",
            "Requirement already satisfied: pyparsing!=3.0.5,>=2.0.2 in /usr/local/lib/python3.7/dist-packages (from packaging>=20.0->transformers) (3.0.9)\n",
            "Requirement already satisfied: zipp>=0.5 in /usr/local/lib/python3.7/dist-packages (from importlib-metadata->transformers) (3.8.1)\n",
            "Requirement already satisfied: chardet<4,>=3.0.2 in /usr/local/lib/python3.7/dist-packages (from requests->transformers) (3.0.4)\n",
            "Requirement already satisfied: certifi>=2017.4.17 in /usr/local/lib/python3.7/dist-packages (from requests->transformers) (2022.6.15)\n",
            "Requirement already satisfied: idna<3,>=2.5 in /usr/local/lib/python3.7/dist-packages (from requests->transformers) (2.10)\n",
            "Requirement already satisfied: urllib3!=1.25.0,!=1.25.1,<1.26,>=1.21.1 in /usr/local/lib/python3.7/dist-packages (from requests->transformers) (1.24.3)\n",
            "Installing collected packages: tokenizers, huggingface-hub, transformers\n",
            "Successfully installed huggingface-hub-0.9.1 tokenizers-0.12.1 transformers-4.21.2\n"
          ]
        }
      ],
      "source": [
        "!pip install transformers"
      ]
    },
    {
      "cell_type": "code",
      "source": [
        "from transformers import BertModel,BertTokenizer\n",
        "import torch"
      ],
      "metadata": {
        "id": "aPI_rnZauWbQ"
      },
      "execution_count": 21,
      "outputs": []
    },
    {
      "cell_type": "markdown",
      "source": [
        "# Instantiating BERT Tokenizer "
      ],
      "metadata": {
        "id": "aPq80UchuapP"
      }
    },
    {
      "cell_type": "code",
      "source": [
        "tokenizer = BertTokenizer.from_pretrained('bert-base-uncased')"
      ],
      "metadata": {
        "id": "VDVwmwo8uhJj"
      },
      "execution_count": 22,
      "outputs": []
    },
    {
      "cell_type": "code",
      "source": [
        "print(type(tokenizer))"
      ],
      "metadata": {
        "colab": {
          "base_uri": "https://localhost:8080/"
        },
        "id": "UnZspRXmulIA",
        "outputId": "e712ac47-48df-4058-ebb9-01a94659ba80"
      },
      "execution_count": 23,
      "outputs": [
        {
          "output_type": "stream",
          "name": "stdout",
          "text": [
            "<class 'transformers.models.bert.tokenization_bert.BertTokenizer'>\n"
          ]
        }
      ]
    },
    {
      "cell_type": "code",
      "source": [
        "seq1 = tokenizer(\"I love Python\")\n",
        "seq2 = tokenizer(\"My friend got bitten by a Python\")"
      ],
      "metadata": {
        "id": "EPitNP7BvRaD"
      },
      "execution_count": 24,
      "outputs": []
    },
    {
      "cell_type": "code",
      "source": [
        "seq1"
      ],
      "metadata": {
        "colab": {
          "base_uri": "https://localhost:8080/"
        },
        "id": "16llOJ1Yvu5y",
        "outputId": "8f836716-e36a-410a-a44c-a5f6f10ae248"
      },
      "execution_count": 25,
      "outputs": [
        {
          "output_type": "execute_result",
          "data": {
            "text/plain": [
              "{'input_ids': [101, 1045, 2293, 18750, 102], 'token_type_ids': [0, 0, 0, 0, 0], 'attention_mask': [1, 1, 1, 1, 1]}"
            ]
          },
          "metadata": {},
          "execution_count": 25
        }
      ]
    },
    {
      "cell_type": "code",
      "source": [
        "seq2"
      ],
      "metadata": {
        "colab": {
          "base_uri": "https://localhost:8080/"
        },
        "id": "-S1op78ow7Ci",
        "outputId": "c45a69cc-8d94-4172-ccbf-035bd373ea04"
      },
      "execution_count": 26,
      "outputs": [
        {
          "output_type": "execute_result",
          "data": {
            "text/plain": [
              "{'input_ids': [101, 2026, 2767, 2288, 19026, 2011, 1037, 18750, 102], 'token_type_ids': [0, 0, 0, 0, 0, 0, 0, 0, 0], 'attention_mask': [1, 1, 1, 1, 1, 1, 1, 1, 1]}"
            ]
          },
          "metadata": {},
          "execution_count": 26
        }
      ]
    },
    {
      "cell_type": "code",
      "source": [
        "tokenizer.decode(seq1.input_ids)"
      ],
      "metadata": {
        "colab": {
          "base_uri": "https://localhost:8080/",
          "height": 35
        },
        "id": "863hSlYGwDeE",
        "outputId": "a2c13abd-f309-4106-a28f-80519e29a9d3"
      },
      "execution_count": 27,
      "outputs": [
        {
          "output_type": "execute_result",
          "data": {
            "text/plain": [
              "'[CLS] i love python [SEP]'"
            ],
            "application/vnd.google.colaboratory.intrinsic+json": {
              "type": "string"
            }
          },
          "metadata": {},
          "execution_count": 27
        }
      ]
    },
    {
      "cell_type": "code",
      "source": [
        "tokenizer.decode(seq2.input_ids)"
      ],
      "metadata": {
        "colab": {
          "base_uri": "https://localhost:8080/",
          "height": 35
        },
        "id": "4g0rYPLZw_3v",
        "outputId": "0909df60-4bc1-4208-ab0d-11af47967db8"
      },
      "execution_count": 28,
      "outputs": [
        {
          "output_type": "execute_result",
          "data": {
            "text/plain": [
              "'[CLS] my friend got bitten by a python [SEP]'"
            ],
            "application/vnd.google.colaboratory.intrinsic+json": {
              "type": "string"
            }
          },
          "metadata": {},
          "execution_count": 28
        }
      ]
    },
    {
      "cell_type": "markdown",
      "source": [
        "# Tokenizing multiple sentences"
      ],
      "metadata": {
        "id": "l691tIcxxSiN"
      }
    },
    {
      "cell_type": "code",
      "source": [
        "sentence1 = \"Hello everyone!\" \n",
        "sentence2 = \"Welcome to BERT Training.\"\n",
        "sentence3 = \"BERT is cool isn't it?\"\n",
        "sentences = [sentence1,sentence2,sentence3]"
      ],
      "metadata": {
        "id": "WXpSSl-OxW5A"
      },
      "execution_count": 31,
      "outputs": []
    },
    {
      "cell_type": "code",
      "source": [
        "encoding = tokenizer(sentences)"
      ],
      "metadata": {
        "id": "gpaYdu22x056"
      },
      "execution_count": 32,
      "outputs": []
    },
    {
      "cell_type": "code",
      "source": [
        "encoding"
      ],
      "metadata": {
        "colab": {
          "base_uri": "https://localhost:8080/"
        },
        "id": "mo4hqshYyB-8",
        "outputId": "62d85bc3-47a9-4b75-f61f-953d933339cd"
      },
      "execution_count": 33,
      "outputs": [
        {
          "output_type": "execute_result",
          "data": {
            "text/plain": [
              "{'input_ids': [[101, 7592, 3071, 999, 102], [101, 6160, 2000, 14324, 2731, 1012, 102], [101, 14324, 2003, 4658, 3475, 1005, 1056, 2009, 1029, 102]], 'token_type_ids': [[0, 0, 0, 0, 0], [0, 0, 0, 0, 0, 0, 0], [0, 0, 0, 0, 0, 0, 0, 0, 0, 0]], 'attention_mask': [[1, 1, 1, 1, 1], [1, 1, 1, 1, 1, 1, 1], [1, 1, 1, 1, 1, 1, 1, 1, 1, 1]]}"
            ]
          },
          "metadata": {},
          "execution_count": 33
        }
      ]
    },
    {
      "cell_type": "code",
      "source": [
        "#tokenizer.decode(encoding.input_ids)"
      ],
      "metadata": {
        "id": "xBE45B-k1WcX"
      },
      "execution_count": 38,
      "outputs": []
    },
    {
      "cell_type": "code",
      "source": [
        "tokenizer.batch_decode(encoding.input_ids)"
      ],
      "metadata": {
        "colab": {
          "base_uri": "https://localhost:8080/"
        },
        "id": "UWK2CEfu01pM",
        "outputId": "1d94764f-10c2-4fd9-eb3f-62d8b3d00c15"
      },
      "execution_count": 36,
      "outputs": [
        {
          "output_type": "execute_result",
          "data": {
            "text/plain": [
              "['[CLS] hello everyone! [SEP]',\n",
              " '[CLS] welcome to bert training. [SEP]',\n",
              " \"[CLS] bert is cool isn't it? [SEP]\"]"
            ]
          },
          "metadata": {},
          "execution_count": 36
        }
      ]
    },
    {
      "cell_type": "markdown",
      "source": [
        "# Getting Representations from BERT"
      ],
      "metadata": {
        "id": "VkNcx2-M14xU"
      }
    },
    {
      "cell_type": "code",
      "source": [
        "model = BertModel.from_pretrained('bert-base-uncased')"
      ],
      "metadata": {
        "colab": {
          "base_uri": "https://localhost:8080/",
          "height": 121,
          "referenced_widgets": [
            "92afc8b1076642bfbd034a736dd7f73a",
            "6f7ea9a86ef24e11bb647328f9511e98",
            "d6d41e9faeb2497b8e0ec50704cdd8a8",
            "1e05d5e4fb1140c3b12e8b526cd9e9ff",
            "922e56fef33744be8da9490d1fd31d50",
            "f3d663c7d5e04199885bf5a925c8255e",
            "70a78500b48f4c1ca66c6f89dd469355",
            "485262c60ec54e6590ab7a07e7f487c9",
            "fc932a5d99eb46cd9b996431ff0ceb93",
            "f8753c8ffd194a68bdd12f1a9fa70d00",
            "6240462d0fab44a5bf5315ec7f52eb20"
          ]
        },
        "id": "45ZDkyi312sF",
        "outputId": "09aebf21-0264-4cda-e34c-28e338e416dc"
      },
      "execution_count": 39,
      "outputs": [
        {
          "output_type": "display_data",
          "data": {
            "text/plain": [
              "Downloading pytorch_model.bin:   0%|          | 0.00/420M [00:00<?, ?B/s]"
            ],
            "application/vnd.jupyter.widget-view+json": {
              "version_major": 2,
              "version_minor": 0,
              "model_id": "92afc8b1076642bfbd034a736dd7f73a"
            }
          },
          "metadata": {}
        },
        {
          "output_type": "stream",
          "name": "stderr",
          "text": [
            "Some weights of the model checkpoint at bert-base-uncased were not used when initializing BertModel: ['cls.predictions.transform.dense.bias', 'cls.predictions.transform.LayerNorm.weight', 'cls.predictions.bias', 'cls.predictions.transform.LayerNorm.bias', 'cls.predictions.decoder.weight', 'cls.seq_relationship.bias', 'cls.predictions.transform.dense.weight', 'cls.seq_relationship.weight']\n",
            "- This IS expected if you are initializing BertModel from the checkpoint of a model trained on another task or with another architecture (e.g. initializing a BertForSequenceClassification model from a BertForPreTraining model).\n",
            "- This IS NOT expected if you are initializing BertModel from the checkpoint of a model that you expect to be exactly identical (initializing a BertForSequenceClassification model from a BertForSequenceClassification model).\n"
          ]
        }
      ]
    },
    {
      "cell_type": "code",
      "source": [
        "#rep1 = model(**seq1)"
      ],
      "metadata": {
        "id": "E1A049xC2RDP"
      },
      "execution_count": null,
      "outputs": []
    },
    {
      "cell_type": "code",
      "source": [
        "seq1 = tokenizer(\"I love Python\",return_tensors = \"pt\")\n",
        "seq2 = tokenizer(\"My friend got bitten by a Python\",return_tensors=\"pt\")"
      ],
      "metadata": {
        "id": "2ch1w01l2cco"
      },
      "execution_count": 41,
      "outputs": []
    },
    {
      "cell_type": "code",
      "source": [
        "rep1 = model(**seq1)"
      ],
      "metadata": {
        "id": "5Kcj8olx2km2"
      },
      "execution_count": 42,
      "outputs": []
    },
    {
      "cell_type": "code",
      "source": [
        "vect1 = rep1.last_hidden_state"
      ],
      "metadata": {
        "id": "XUiOWGJw2m33"
      },
      "execution_count": 54,
      "outputs": []
    },
    {
      "cell_type": "code",
      "source": [
        "vect1"
      ],
      "metadata": {
        "colab": {
          "base_uri": "https://localhost:8080/"
        },
        "id": "8b09C2vR5p5q",
        "outputId": "279a74d0-0622-4423-a0f0-807e5301f780"
      },
      "execution_count": 55,
      "outputs": [
        {
          "output_type": "execute_result",
          "data": {
            "text/plain": [
              "tensor([[[ 0.0161,  0.2863,  0.0034,  ..., -0.2664,  0.0261,  0.1067],\n",
              "         [ 0.2179,  0.4228,  0.3737,  ..., -0.3785,  0.4568,  0.3196],\n",
              "         [ 0.8045,  0.7133,  0.6747,  ..., -0.4853,  0.3542, -0.0167],\n",
              "         [-0.5676, -0.1475, -0.1150,  ...,  0.6145,  0.3059, -0.2942],\n",
              "         [ 0.7353,  0.2802, -0.0891,  ..., -0.4089, -0.7614, -0.3000]]],\n",
              "       grad_fn=<NativeLayerNormBackward0>)"
            ]
          },
          "metadata": {},
          "execution_count": 55
        }
      ]
    },
    {
      "cell_type": "code",
      "source": [
        "rep2 = model(**seq2)"
      ],
      "metadata": {
        "id": "DEUB_WZ82v2S"
      },
      "execution_count": 45,
      "outputs": []
    },
    {
      "cell_type": "code",
      "source": [
        "vect2 = rep2.last_hidden_state"
      ],
      "metadata": {
        "id": "zbjI8O5655EG"
      },
      "execution_count": 57,
      "outputs": []
    },
    {
      "cell_type": "code",
      "source": [
        "vect2"
      ],
      "metadata": {
        "colab": {
          "base_uri": "https://localhost:8080/"
        },
        "id": "EJrU207r59tU",
        "outputId": "5a043579-fab4-473f-9228-c45c8f34f239"
      },
      "execution_count": 58,
      "outputs": [
        {
          "output_type": "execute_result",
          "data": {
            "text/plain": [
              "tensor([[[ 0.1780,  0.2634, -0.3101,  ..., -0.3565,  0.1511,  0.4646],\n",
              "         [ 0.1424, -0.2776, -0.0896,  ..., -0.1086,  0.1686,  0.3043],\n",
              "         [-0.0537, -0.3585,  0.3081,  ...,  0.0081, -0.0080,  0.6875],\n",
              "         ...,\n",
              "         [-0.0434,  0.1184, -0.7070,  ..., -0.6580,  0.1771,  0.5430],\n",
              "         [-0.2135,  0.3380, -1.4982,  ..., -0.0998, -0.2282,  0.0751],\n",
              "         [ 0.7526,  0.2634, -0.3876,  ..., -0.0345, -0.5274, -0.4284]]],\n",
              "       grad_fn=<NativeLayerNormBackward0>)"
            ]
          },
          "metadata": {},
          "execution_count": 58
        }
      ]
    },
    {
      "cell_type": "markdown",
      "source": [
        "# Verifying that BERT really returns contextual embeddings "
      ],
      "metadata": {
        "id": "2NUvL1399jHm"
      }
    },
    {
      "cell_type": "code",
      "source": [
        "rep_python_seq1 = vect1[0][-2]\n",
        "rep_python_seq2 = vect2[0][-2]"
      ],
      "metadata": {
        "id": "yZvlIUv-6MDU"
      },
      "execution_count": 82,
      "outputs": []
    },
    {
      "cell_type": "code",
      "source": [
        "import numpy as np\n",
        "from numpy.linalg import norm"
      ],
      "metadata": {
        "id": "2Q14EW_98S2D"
      },
      "execution_count": 86,
      "outputs": []
    },
    {
      "cell_type": "code",
      "source": [
        "rep_python_seq1 = np.array(rep_python_seq1.tolist())\n",
        "rep_python_seq2 = np.array(rep_python_seq2.tolist())"
      ],
      "metadata": {
        "id": "Spy75m0v6ojE"
      },
      "execution_count": 83,
      "outputs": []
    },
    {
      "cell_type": "code",
      "source": [
        "rep_python_seq1"
      ],
      "metadata": {
        "colab": {
          "base_uri": "https://localhost:8080/"
        },
        "id": "9GTi_g1J8C_e",
        "outputId": "717d30b7-0df1-4e6a-e51d-22ebbc853ccd"
      },
      "execution_count": 84,
      "outputs": [
        {
          "output_type": "execute_result",
          "data": {
            "text/plain": [
              "array([-5.67568481e-01, -1.47522762e-01, -1.15024738e-01,  1.10645168e-01,\n",
              "        5.38331047e-02, -7.24714808e-03, -9.26112384e-02,  4.38374221e-01,\n",
              "       -1.66499540e-01, -4.72974889e-02, -7.56735682e-01, -6.41936362e-02,\n",
              "        1.42030865e-01,  5.89757204e-01, -2.41378710e-01,  9.89595428e-02,\n",
              "        2.93665648e-01,  5.74719846e-01, -2.94538498e-01,  2.84092367e-01,\n",
              "       -3.44631299e-02, -1.11548863e-01, -4.92342189e-02, -4.25453573e-01,\n",
              "       -2.66217321e-01,  3.82678956e-01,  5.13687581e-02, -1.45050615e-01,\n",
              "        2.57000118e-01,  2.73712546e-01,  3.91698964e-02,  1.74759760e-01,\n",
              "        6.17498517e-01,  7.54433572e-01, -1.75808400e-01, -4.02714580e-01,\n",
              "        9.04493313e-03,  2.62375474e-01, -2.50761956e-01, -1.84672505e-01,\n",
              "        8.55902135e-01, -1.48113668e-01,  1.90912098e-01, -9.50451970e-01,\n",
              "        4.07536067e-02, -1.23205476e-01, -1.41580030e-01, -3.62063259e-01,\n",
              "        2.49353781e-01, -2.15038568e-01, -3.74613315e-01,  1.66474387e-01,\n",
              "       -5.37074029e-01,  4.28052127e-01,  9.39474553e-02, -5.00515878e-01,\n",
              "        2.29282960e-01,  2.41873920e-01, -5.25250614e-01, -2.22478345e-01,\n",
              "        4.23466980e-01, -3.29298824e-01,  3.01191151e-01,  1.11021847e-01,\n",
              "       -2.32377704e-02,  2.13459909e-01,  5.93004823e-01,  1.14147298e-01,\n",
              "       -2.85648048e-01, -1.66626960e-01,  5.45454502e-01,  1.10323668e-01,\n",
              "       -5.21536052e-01, -8.83988857e-01,  5.29051125e-01,  4.03169870e-01,\n",
              "       -5.92449367e-01,  2.56128579e-01,  7.73505196e-02,  1.78608894e-01,\n",
              "       -9.38572660e-02,  4.31360751e-01,  2.00697482e-01,  5.88453673e-02,\n",
              "       -3.11436921e-01, -7.86890835e-02, -2.47292310e-01,  2.06779391e-01,\n",
              "       -1.62523445e-02,  3.08969349e-01, -5.14015615e-01, -8.09089124e-01,\n",
              "        1.57347336e-01,  2.81486183e-01,  1.38222978e-01, -7.45831311e-01,\n",
              "       -1.00732386e+00,  2.18320101e-01, -1.90893427e-01, -7.02675760e-01,\n",
              "       -7.89678514e-01, -1.35344005e+00,  1.17315523e-01, -5.91129102e-02,\n",
              "       -5.12832999e-01,  1.12153485e-01, -2.25947015e-02, -6.99707329e-01,\n",
              "        2.34927297e-01,  7.37716183e-02, -2.65875340e-01,  1.47608956e-02,\n",
              "        1.32136226e-01, -1.92144409e-01, -2.44275793e-01,  4.06645209e-01,\n",
              "        1.47144124e-01,  2.57526934e-01,  1.04035333e-01, -6.73882663e-02,\n",
              "       -5.48988044e-01, -2.46759221e-01,  1.67472094e-01,  6.44277275e-01,\n",
              "        3.36595893e-01,  6.02768920e-02, -2.58241504e-01, -7.37034619e-01,\n",
              "       -1.47517264e-01, -9.00266469e-01, -2.03767687e-01,  3.06945443e-01,\n",
              "       -6.30764440e-02,  1.10395528e-01, -4.97616857e-01, -1.08711362e-01,\n",
              "       -3.40769738e-01, -5.12960076e-01,  5.55247962e-01, -4.78992641e-01,\n",
              "       -7.71936476e-02,  6.87317133e-01, -3.52155626e-01,  1.44803733e-01,\n",
              "        2.49759093e-01, -2.52555192e-01, -5.69199264e-01, -2.57751167e-01,\n",
              "       -1.38284922e-01,  1.16608739e-01, -5.23429871e-01,  8.39787424e-01,\n",
              "       -1.45028740e-01, -1.11535573e+00,  2.12963372e-01,  1.27462193e-01,\n",
              "       -3.18675995e-01,  3.27705681e-01, -4.52072322e-02,  3.58027756e-01,\n",
              "        5.75516820e-01,  6.76493466e-01, -5.91604114e-01,  4.32026953e-01,\n",
              "       -3.75578612e-01, -1.00974597e-01,  3.97390217e-01,  8.35397482e-01,\n",
              "       -1.75295711e-01, -1.12870657e+00, -3.42597753e-01, -1.86330751e-01,\n",
              "        9.39331174e-01,  1.24747312e+00, -4.29871231e-01,  3.43852282e-01,\n",
              "        2.03410640e-01,  2.59251773e-01, -5.75991273e-01,  9.36381146e-02,\n",
              "       -3.61026019e-01,  4.43591438e-02, -4.18648571e-01, -1.42079622e-01,\n",
              "       -2.62506694e-01,  2.74991661e-01,  5.01446068e-01, -8.29736590e-01,\n",
              "        9.56802189e-01,  4.66416448e-01, -1.02637696e+00, -3.85797590e-01,\n",
              "       -8.83166939e-02, -1.42487332e-01, -4.81543988e-02, -1.17887735e+00,\n",
              "        1.31940678e-01,  2.46780694e-01,  1.20729697e+00,  2.10580468e-01,\n",
              "        6.11383557e-01, -1.01904488e+00,  7.42104828e-01,  6.05879307e-01,\n",
              "        1.34132445e-01,  4.14812416e-01,  2.23796546e-01, -3.51726532e-01,\n",
              "        1.52535466e-02, -4.83462572e-01, -8.01275671e-01,  1.18253124e+00,\n",
              "        6.18343651e-01,  3.88604581e-01,  4.61459428e-01,  4.75291982e-02,\n",
              "       -4.15345222e-01, -5.82824051e-01, -2.86750555e-01,  7.11095095e-01,\n",
              "        5.51024675e-01,  2.46958714e-02,  2.12003756e-02, -9.28321257e-02,\n",
              "       -4.73793387e-01, -1.64957970e-01,  1.53487861e-01,  5.41104041e-02,\n",
              "        1.49550378e-01, -9.68919396e-02, -6.66030407e-01, -7.80885577e-01,\n",
              "       -3.01218897e-01, -8.90306756e-02, -1.18857242e-01,  7.47549951e-01,\n",
              "        2.22410902e-01, -4.34012860e-01, -9.06143412e-02,  3.22678722e-02,\n",
              "        1.56648055e-01, -2.35863358e-01,  6.22818708e-01,  2.53615767e-01,\n",
              "       -7.23233938e-01,  2.14233994e-01,  7.52278209e-01, -3.84395659e-01,\n",
              "       -3.04182857e-01,  3.23063195e-01, -1.56744216e-02, -4.68005955e-01,\n",
              "       -1.49157703e-01,  5.80094337e-01, -6.45844936e-01, -9.89102304e-01,\n",
              "       -3.03754866e-01, -6.84036016e-01,  6.88777864e-01,  1.38184047e+00,\n",
              "       -1.69337064e-01, -1.63457856e-01,  1.13478041e+00, -6.63726211e-01,\n",
              "        6.50952578e-01,  4.49732721e-01, -3.58717889e-02, -5.50115705e-01,\n",
              "        1.99186593e-01,  4.10346836e-02, -3.95508349e-01,  1.97837770e-01,\n",
              "        2.87720531e-01, -7.06064180e-02, -1.46725252e-01,  8.60985458e-01,\n",
              "        5.16056597e-01,  4.96519655e-01,  4.69657809e-01, -2.70169497e-01,\n",
              "       -1.15419991e-01, -1.41683564e-01, -8.43050539e-01, -6.03024699e-02,\n",
              "        9.83434319e-01, -7.28702322e-02,  7.21982419e-02, -6.46179378e-01,\n",
              "       -3.85656863e-01,  9.79570672e-02, -4.96002644e-01,  1.66385710e-01,\n",
              "        3.92649084e-01, -2.05024227e-01,  4.19240683e-01,  3.21752995e-01,\n",
              "       -6.11758465e-03,  3.01539272e-01, -6.02167428e-01,  5.31562209e-01,\n",
              "       -7.77311862e-01,  9.76844013e-01,  4.16578561e-01,  2.28729755e-01,\n",
              "        1.42672276e+00,  4.41671729e-01,  1.60533227e-02,  4.18176830e-01,\n",
              "       -4.98012686e+00, -4.13768858e-01,  5.74904203e-01, -7.81741500e-01,\n",
              "        4.79523212e-01, -4.44103777e-02,  2.21312657e-01, -3.17342803e-02,\n",
              "       -1.27861975e-02, -5.12248099e-01,  2.03396365e-01, -3.13679352e-02,\n",
              "        2.92276591e-01,  1.48963884e-01,  1.29220113e-02, -6.24082565e-01,\n",
              "       -4.02245343e-01, -1.05881965e+00, -4.85825479e-01,  5.84861457e-01,\n",
              "       -2.99816489e-01, -2.87887365e-01,  6.53641880e-01, -4.58879411e-01,\n",
              "       -3.38029742e-01,  4.26874906e-01,  4.92915004e-01,  3.65835398e-01,\n",
              "       -1.27087379e+00, -4.47093695e-01, -9.62004066e-01, -1.66696280e-01,\n",
              "        2.51720279e-01,  2.94646710e-01,  6.99435115e-01,  2.40997910e-01,\n",
              "        3.62491190e-01, -6.29433274e-01,  8.38212907e-01, -8.45339894e-02,\n",
              "        5.47532022e-01, -3.76897544e-01,  3.63177299e-01, -3.41825336e-01,\n",
              "       -3.13056290e-01, -4.24008667e-02,  4.03154612e-01, -3.49251479e-01,\n",
              "        5.87139904e-01,  3.65832031e-01,  1.79502338e-01, -3.26493919e-01,\n",
              "        3.90644133e-01, -4.24743384e-01, -5.70475496e-02,  6.05956137e-01,\n",
              "        8.32427666e-02,  5.92094481e-01, -1.64266050e-01,  8.92034620e-02,\n",
              "       -3.64871353e-01,  8.49628001e-02, -2.61702180e-01,  6.95398033e-01,\n",
              "       -6.25765026e-01,  1.90074280e-01,  5.11036664e-02, -9.98855948e-01,\n",
              "        2.14659736e-01,  4.46506441e-01, -1.18422568e-01, -3.31601143e-01,\n",
              "        3.73978704e-01, -1.10388660e+00, -1.19879854e+00,  5.94454885e-01,\n",
              "       -3.51979613e-01, -8.33271861e-01, -5.13310246e-02, -1.52860761e-01,\n",
              "        2.79610515e-01, -3.22892427e-01,  3.05453867e-01,  5.54309011e-01,\n",
              "        3.28259468e-01,  2.98259854e-01,  5.89268625e-01, -8.68112862e-01,\n",
              "        3.71965975e-01,  5.63812196e-01,  1.75358951e-02, -4.78770062e-02,\n",
              "        3.36982429e-01, -9.03531462e-02,  1.04075563e+00,  3.83643985e-01,\n",
              "        6.42250836e-01, -1.99482560e-01, -5.04028976e-01,  3.06271285e-01,\n",
              "       -5.23567915e-01, -5.97312674e-02, -1.32606149e-01,  5.89014173e-01,\n",
              "        2.33696431e-01, -9.65160578e-02, -1.21002674e+00,  4.26478773e-01,\n",
              "        2.22018912e-01, -2.46036783e-01,  1.17258318e-01,  5.60805380e-01,\n",
              "        2.69935131e-01,  5.70997484e-02, -9.20528769e-01, -5.44680536e-01,\n",
              "        7.77252316e-02,  2.15130225e-01,  3.37738842e-01,  1.74173996e-01,\n",
              "       -5.41534901e-01,  9.37487841e-01, -6.07195795e-01,  5.66631615e-01,\n",
              "        1.31507739e-01,  2.37110093e-01, -1.88392580e-01, -7.15159237e-01,\n",
              "       -1.09900266e-01,  3.69059741e-01,  3.98007147e-02,  6.62768304e-01,\n",
              "        5.70303500e-02, -2.30933279e-01, -2.82069534e-01,  3.03607345e-01,\n",
              "       -1.99049171e-02,  5.99585548e-02, -8.70344788e-02,  5.27355731e-01,\n",
              "       -3.09870150e-02, -3.15484136e-01, -4.90136236e-01,  4.23493028e-01,\n",
              "        3.93594831e-01,  3.81313749e-02, -2.02367052e-01,  8.08885872e-01,\n",
              "        1.32235110e-01,  2.16784868e-02,  5.95339358e-01, -2.39700377e-01,\n",
              "        1.19080114e+00,  8.54119420e-01, -3.18450965e-02, -1.44292697e-01,\n",
              "       -1.82232633e-01, -4.79323387e-01,  8.86206999e-02, -4.43658754e-02,\n",
              "       -1.37574881e-01, -6.96444511e-01, -3.38547498e-01,  5.51610410e-01,\n",
              "        8.65367800e-02,  1.00329304e+00, -1.89991385e-01,  3.88291657e-01,\n",
              "       -8.12732160e-01, -9.34170280e-03,  6.12701118e-01, -6.03284061e-01,\n",
              "       -1.70093309e-02,  7.57978261e-01, -2.75508672e-01,  4.17635173e-01,\n",
              "       -4.06684548e-01, -8.15001249e-01,  2.56950468e-01,  3.11938643e-01,\n",
              "       -1.39859542e-01, -7.17103481e-01,  3.63340020e-01, -3.72531176e-01,\n",
              "        6.95407331e-01,  5.62708199e-01, -7.79643953e-01, -4.21711534e-01,\n",
              "       -3.63464467e-02,  8.34653795e-01,  9.01843905e-02, -3.55556428e-01,\n",
              "       -9.49574411e-02, -3.97496849e-01, -1.95367023e-01, -1.16426826e-01,\n",
              "        2.70846874e-01, -5.94735034e-02,  2.02485695e-01,  2.16362819e-01,\n",
              "       -8.21226016e-02, -7.22874224e-01, -7.44406104e-01,  1.24019288e-01,\n",
              "        1.68462954e-02,  2.38409951e-01,  2.71730572e-01,  5.69588006e-01,\n",
              "       -3.97929549e-01,  1.42608015e-02,  7.84290850e-01, -2.17013538e-01,\n",
              "       -9.14985910e-02, -4.71671164e-01, -2.12844253e-01,  1.08521020e+00,\n",
              "       -6.15486056e-02, -1.45913318e-01,  1.26200374e-02, -6.68214679e-01,\n",
              "       -2.33210418e-02, -7.31588185e-01,  2.36080632e-01, -3.51832092e-01,\n",
              "        2.20081240e-01,  7.70775020e-01, -7.34526873e-01, -7.22076595e-01,\n",
              "        2.21799359e-01, -1.79669365e-01,  8.77790630e-01,  1.93703935e-01,\n",
              "        3.01019400e-01,  1.02910943e-01, -1.93524167e-01, -9.89203900e-02,\n",
              "       -5.40074646e-01, -1.28885239e-01, -9.77986336e-01, -9.99234393e-02,\n",
              "        2.30099067e-01, -8.39610398e-01, -8.61615121e-01, -1.41517684e-01,\n",
              "        2.26875767e-01, -2.02272713e-01, -3.28076959e-01,  1.09253183e-01,\n",
              "        7.02044368e-01,  5.06326318e-01, -3.36363465e-01,  1.00477591e-01,\n",
              "        4.32017863e-01, -3.39184403e-01,  2.13004291e-01, -4.25692528e-01,\n",
              "       -6.17962718e-01, -5.13581216e-01,  7.63332844e-02,  2.19630703e-01,\n",
              "       -3.02422166e-01,  7.88638234e-01,  2.55290896e-01, -2.73167226e-03,\n",
              "       -3.82816941e-01,  2.64024287e-01, -7.58283734e-02, -2.13621914e-01,\n",
              "        4.37472276e-02,  8.25820863e-01, -7.42925704e-01,  9.41590443e-02,\n",
              "       -5.81215680e-01,  9.97584820e-01,  2.63991296e-01, -2.65258681e-02,\n",
              "        9.99149978e-01, -5.75214148e-01, -4.93073054e-02,  4.57222424e-02,\n",
              "       -3.72238867e-02,  9.17467892e-01,  2.77624726e-01, -2.63908356e-01,\n",
              "        3.91707897e-01, -1.99883550e-01, -7.99225271e-02, -2.98858106e-01,\n",
              "        1.82821602e-02, -9.76607144e-01,  1.26425847e-01,  2.33341619e-01,\n",
              "        2.09078528e-02,  3.66645455e-01,  6.71043813e-01,  1.81008399e-01,\n",
              "       -2.45878041e-01,  5.98170280e-01, -5.65044343e-01, -1.70032635e-01,\n",
              "       -3.89544070e-01, -4.04788926e-03,  6.43755198e-01, -3.29118311e-01,\n",
              "       -2.08986774e-01, -4.09186771e-03,  4.63814706e-01, -3.36390674e-01,\n",
              "       -3.86936694e-01,  2.66148988e-02, -2.79251039e-01, -5.53578079e-01,\n",
              "        2.47863829e-02,  8.63949656e-01, -4.65944529e-01, -5.70765734e-02,\n",
              "        5.29381573e-01, -5.17348647e-01, -6.49464205e-02, -9.53519717e-03,\n",
              "        1.31117359e-01, -4.29255188e-01,  1.88944981e-01, -2.45999917e-01,\n",
              "        7.57840037e-01,  2.95744061e-01, -7.32709169e-01,  9.24963951e-01,\n",
              "       -3.88015024e-02,  1.35304797e+00,  3.61689515e-02, -5.55062234e-01,\n",
              "       -5.06617427e-02, -1.16185620e-02,  7.62228549e-01, -8.84686634e-02,\n",
              "        4.10691023e-01, -6.41414225e-01, -4.58495975e-01,  1.41896352e-01,\n",
              "        3.42383146e-01, -7.33227372e-01,  1.04895741e-01,  2.33200654e-01,\n",
              "       -4.29851681e-01, -3.06869715e-01, -4.71229758e-03, -7.65112996e-01,\n",
              "        9.54027921e-02,  6.55224860e-01, -2.49525547e-01,  2.11562708e-01,\n",
              "       -7.92776108e-01, -4.82605547e-01,  1.29628787e-02,  1.87873721e-01,\n",
              "        3.59476864e-01,  2.25291420e-02, -3.87878984e-01, -2.57458389e-01,\n",
              "       -3.62042747e-02,  1.33433446e-01,  4.67211783e-01,  4.24104244e-01,\n",
              "        2.46817231e-01,  2.18760103e-01, -5.99854216e-02, -5.40500104e-01,\n",
              "       -4.37591881e-01,  4.08930471e-03, -2.55821049e-01, -5.92804961e-02,\n",
              "        5.57834089e-01,  6.69814527e-01,  1.77436564e-02,  6.42406166e-01,\n",
              "       -6.35445654e-01,  8.33257139e-02, -2.56401598e-01, -6.87633038e-01,\n",
              "       -2.45414644e-01, -2.13184595e-01, -8.38399380e-02, -4.85101134e-01,\n",
              "        1.27055037e+00, -3.44008982e-01,  3.03570509e-01, -5.41929364e-01,\n",
              "        1.77964810e-02, -1.16261221e-01,  5.31659544e-01, -4.46151793e-01,\n",
              "       -3.04893345e-01, -9.56960022e-01,  1.88050404e-01, -3.65460396e-01,\n",
              "       -6.18505716e-01,  2.36032143e-01, -4.77190204e-02,  7.22208738e-01,\n",
              "        6.31315827e-01, -2.73596406e-01,  6.52313411e-01,  3.42586398e-01,\n",
              "       -9.91995394e-01, -2.15686783e-01,  2.89152175e-01, -5.51266372e-01,\n",
              "       -2.14804545e-01, -7.71470368e-02,  4.27146435e-01,  2.34971389e-01,\n",
              "       -2.53257453e-01,  3.19444925e-01,  4.01148677e-01, -3.52734596e-01,\n",
              "        1.21986175e+00, -9.29049496e-03,  4.28935826e-01, -8.88176709e-02,\n",
              "        2.38060921e-01,  3.02078843e-01,  1.13706850e-02,  4.24686462e-01,\n",
              "       -2.25578800e-01,  3.45511168e-01, -5.70724785e-01,  1.90236717e-01,\n",
              "       -1.14314571e-01,  4.95484859e-01, -1.87902927e-01,  2.78673887e-01,\n",
              "       -1.60843968e-01,  4.65516955e-01, -2.10385874e-01, -2.79205292e-01,\n",
              "       -3.46379466e-02, -4.12188351e-01,  3.70322376e-01, -4.89315599e-01,\n",
              "        3.27182710e-02,  7.17006773e-02, -8.84381175e-01, -1.03508294e+00,\n",
              "       -5.71976662e-01, -2.58129567e-01,  9.76905599e-02, -2.58816890e-02,\n",
              "       -6.01952076e-01,  2.68549025e-01,  3.08510602e-01, -3.12262625e-01,\n",
              "        3.17059234e-02, -4.53481942e-01,  3.46519709e-01, -2.26291433e-01,\n",
              "        4.75737788e-02,  6.14501059e-01,  3.05890948e-01, -2.94202268e-01])"
            ]
          },
          "metadata": {},
          "execution_count": 84
        }
      ]
    },
    {
      "cell_type": "code",
      "source": [
        "rep_python_seq2"
      ],
      "metadata": {
        "colab": {
          "base_uri": "https://localhost:8080/"
        },
        "id": "SBO7ql3b7W81",
        "outputId": "4c7941b4-3f59-40f5-e1b9-a8e1cd8a5b23"
      },
      "execution_count": 85,
      "outputs": [
        {
          "output_type": "execute_result",
          "data": {
            "text/plain": [
              "array([-2.13494852e-01,  3.37998450e-01, -1.49824405e+00, -5.01228571e-01,\n",
              "        1.38913214e-01,  4.46144044e-01,  6.01392210e-01,  1.55514038e+00,\n",
              "       -6.51732445e-01,  1.93732426e-01,  3.77336144e-01,  4.33520600e-02,\n",
              "       -2.29016673e-02,  2.99858809e-01, -5.97064137e-01, -9.40742910e-01,\n",
              "        1.47333546e-02, -2.56264687e-01, -3.81804734e-01,  5.33963740e-01,\n",
              "        1.52631626e-01, -1.75309181e-01, -6.32132471e-01,  5.84168024e-02,\n",
              "        4.27088022e-01,  1.03269875e+00, -2.54386336e-01,  9.43297923e-01,\n",
              "       -4.16350484e-01, -1.34235993e-01,  3.38296950e-01,  1.02233648e-01,\n",
              "        8.21905851e-01,  6.38595998e-01, -3.36003751e-01, -4.05884326e-01,\n",
              "       -2.14778587e-01,  4.48051319e-02, -6.42179608e-01,  3.63554597e-01,\n",
              "       -1.10530525e-01, -4.09904569e-01, -3.59483510e-02, -8.18349794e-02,\n",
              "        1.93918690e-01,  2.14932859e-01,  1.00192547e+00, -5.32470822e-01,\n",
              "        3.69840354e-01, -6.91666827e-02, -6.28492832e-01,  4.93092149e-01,\n",
              "       -1.53177011e+00, -2.17299893e-01,  9.94162336e-02, -2.64765799e-01,\n",
              "        3.39701504e-01, -5.34497201e-01, -6.07528627e-01, -6.00648224e-01,\n",
              "        8.09766471e-01,  3.23505819e-01,  1.74211219e-01, -1.98875502e-01,\n",
              "       -9.59457755e-02,  6.20323658e-01,  8.52627695e-01, -5.81147820e-02,\n",
              "       -1.15185475e+00,  1.72163114e-01, -3.84107381e-01,  5.11907756e-01,\n",
              "       -4.76078749e-01, -2.63561457e-01, -2.24381059e-01, -7.03789815e-02,\n",
              "        1.83821246e-01, -5.56165818e-03,  5.96704148e-03, -1.84177741e-01,\n",
              "        3.59433293e-01,  8.47869754e-01,  9.05934632e-01, -5.05247824e-02,\n",
              "        1.70635596e-01, -6.67632520e-01,  1.69180334e-01, -9.06868160e-01,\n",
              "       -1.04608990e-01,  7.14708447e-01, -4.21297133e-01, -1.77803457e-01,\n",
              "       -3.81421089e-01,  4.10884053e-01, -4.42157507e-01, -2.75083721e-01,\n",
              "       -3.49674135e-01,  4.23961461e-01,  1.06446123e+00, -8.32789242e-01,\n",
              "       -4.18777466e-01, -1.63139820e+00, -1.17657874e-02,  4.45723593e-01,\n",
              "       -2.03160316e-01, -8.71282965e-02, -4.91225064e-01,  2.64505029e-01,\n",
              "       -1.46428609e+00, -2.00902838e-02, -4.95727479e-01, -1.65038571e-01,\n",
              "       -1.41523838e-01, -1.00112844e+00, -8.35454345e-01,  2.91361332e-01,\n",
              "        1.09818406e-01, -9.24276590e-01,  4.61218268e-01, -2.93378621e-01,\n",
              "        1.30099133e-01,  3.38719219e-01, -7.83184990e-02,  1.54305542e+00,\n",
              "       -1.73794597e-01,  1.11369051e-01, -2.22038537e-01, -8.57789576e-01,\n",
              "       -6.59209073e-01, -4.00108725e-01,  4.38326478e-01,  1.24779081e+00,\n",
              "        4.61759299e-01,  2.13508531e-01, -2.15581998e-01, -6.01922870e-01,\n",
              "       -3.57659936e-01,  3.65852565e-02,  5.16445100e-01, -7.18557477e-01,\n",
              "        2.05468744e-01,  3.34650129e-01,  7.31224567e-02,  7.48737812e-01,\n",
              "        2.73620605e-01, -1.05321318e-01, -7.34985769e-02, -2.27712467e-01,\n",
              "        4.98140991e-01, -4.61302139e-02, -2.25738436e-01,  8.63595486e-01,\n",
              "       -5.69417357e-01, -8.38340223e-01,  5.78306675e-01, -1.46974111e-02,\n",
              "        9.55568478e-02, -2.31216028e-01, -3.97096723e-01,  4.73776132e-01,\n",
              "        1.13210094e+00,  1.58718526e-01, -1.44086158e+00,  6.69764876e-01,\n",
              "       -4.50788975e-01, -5.69587529e-01, -1.92611843e-01,  1.30747974e+00,\n",
              "        2.84839272e-01,  7.36332610e-02, -9.19047713e-01,  2.35514268e-01,\n",
              "        9.32032228e-01,  5.49557090e-01, -6.94214046e-01, -1.33845121e-01,\n",
              "        1.48509592e-01, -1.06859386e-01,  5.02667367e-01,  1.08048156e-01,\n",
              "       -5.41010141e-01,  3.32642019e-01,  3.27478319e-01,  5.71953177e-01,\n",
              "        1.77832797e-01, -3.03732365e-01,  6.86823010e-01, -2.51279980e-01,\n",
              "        1.25603211e+00,  1.30156279e-01, -4.33328360e-01, -1.12850583e+00,\n",
              "       -4.00215089e-01,  2.22792611e-01,  6.03493989e-01, -9.60413992e-01,\n",
              "       -6.40477180e-01, -1.75424039e-01,  8.79517257e-01,  1.61340386e-01,\n",
              "       -5.15542865e-01, -4.53279942e-01, -1.42232582e-01,  1.46581173e-01,\n",
              "       -1.49386600e-01,  7.22511113e-01,  9.05275270e-02, -2.72581309e-01,\n",
              "        4.64508057e-01, -1.87811479e-01, -9.44114089e-01,  1.15029073e+00,\n",
              "        1.54921174e-01, -1.92479044e-02,  4.62454259e-01,  4.62986469e-01,\n",
              "        5.48866168e-02, -5.99420309e-01, -2.59481043e-01,  2.20567301e-01,\n",
              "        7.25736320e-01, -5.77044189e-01, -5.31649590e-01, -3.83540213e-01,\n",
              "       -5.94521880e-01,  4.34454739e-01,  1.22352526e-01,  7.85832629e-02,\n",
              "        7.91439772e-01, -6.00814641e-01,  3.19552064e-01,  3.43276501e-01,\n",
              "        4.48325872e-01, -2.63523310e-01, -1.00826132e+00,  2.09937751e-01,\n",
              "       -9.82787684e-02, -6.92668855e-01, -3.05949569e-01, -9.55284387e-02,\n",
              "       -4.29169923e-01,  7.48638988e-01,  6.94123626e-01,  2.87953854e-01,\n",
              "       -1.70957044e-01, -1.30945265e-01,  4.67880927e-02, -3.30801368e-01,\n",
              "        3.50963295e-01, -2.87499130e-01,  2.03512415e-01, -5.52414834e-01,\n",
              "        2.03273565e-01,  2.00860053e-01, -6.90201342e-01, -4.88227367e-01,\n",
              "       -7.29664385e-01,  1.64861754e-01,  6.91959858e-01,  5.32682240e-01,\n",
              "       -8.13063443e-01,  3.86279017e-01,  8.89617622e-01, -4.79825437e-01,\n",
              "        1.45963565e-01,  1.44574732e-01,  5.03821433e-01,  3.33639570e-02,\n",
              "        7.76507139e-01,  4.90673818e-02,  8.80799349e-03, -5.18019199e-02,\n",
              "        1.94207191e-01,  5.72437882e-01,  1.89749151e-01,  3.24963152e-01,\n",
              "       -3.64033699e-01,  5.92538714e-01,  1.06255662e+00,  1.47167683e-01,\n",
              "        1.43502682e-01,  5.19178547e-02, -7.95484662e-01, -2.59524703e-01,\n",
              "        9.11557853e-01, -6.23833179e-01, -2.07546577e-01,  1.61407679e-01,\n",
              "        2.83190310e-01, -1.15357906e-01, -3.66205841e-01,  7.64584959e-01,\n",
              "        1.14163995e-01, -1.83067977e-01, -2.46513262e-01,  3.28958213e-01,\n",
              "       -1.00977793e-01,  1.15770228e-01,  2.09170505e-01,  1.07863389e-01,\n",
              "       -4.97168511e-01,  4.18528169e-01,  4.12540853e-01,  2.72600412e-01,\n",
              "        8.21078241e-01,  6.33594275e-01, -6.36774153e-02,  1.31822392e-01,\n",
              "       -3.64016867e+00, -3.66223246e-01,  1.53753951e-01, -7.66423225e-01,\n",
              "        9.28743541e-01, -2.61910588e-01,  3.87955345e-02, -5.29895067e-01,\n",
              "       -1.34082186e+00, -6.92003727e-01,  1.22405514e-01,  4.11247790e-01,\n",
              "        3.00254256e-01,  8.67579877e-03,  3.48355055e-01, -1.07663250e+00,\n",
              "       -1.38715357e-01, -4.77492869e-01, -4.01436090e-01,  1.45679724e+00,\n",
              "       -6.60709620e-01, -6.44052863e-01,  2.88047373e-01, -3.50379497e-01,\n",
              "       -6.05348572e-02,  5.66925466e-01, -1.12368023e+00,  4.79699433e-01,\n",
              "        3.50722909e-01, -7.90630758e-01, -2.90640235e-01, -1.10099882e-01,\n",
              "        4.17984188e-01,  2.12544426e-01,  4.25183326e-01,  6.23665214e-01,\n",
              "       -2.51117676e-01, -2.60798812e-01,  1.09755635e+00, -7.35182762e-01,\n",
              "        3.71027499e-01, -2.62294471e-01,  7.46141791e-01,  9.26531971e-01,\n",
              "        9.05722737e-01, -1.10272855e-01,  5.93823373e-01, -1.41299403e+00,\n",
              "       -1.32379532e-01,  3.18653951e-03,  6.66809738e-01, -3.50036055e-01,\n",
              "       -2.32028946e-01,  2.45917603e-01,  1.95753232e-01,  2.99562886e-02,\n",
              "        1.76148504e-01,  1.09144211e+00, -2.71075189e-01, -2.54627019e-01,\n",
              "        8.65290314e-02, -2.47945055e-01, -3.51314574e-01,  2.34743387e-01,\n",
              "       -5.40688932e-01, -9.04077217e-02,  2.17387229e-01, -1.17794681e+00,\n",
              "        8.33241999e-01, -4.58503157e-01, -3.83314341e-01, -2.90397674e-01,\n",
              "       -3.21281046e-01, -1.33008707e+00, -5.38683355e-01,  5.09967506e-01,\n",
              "       -8.34260941e-01,  4.22246784e-01,  1.18640982e-01, -5.86062372e-01,\n",
              "        6.69153214e-01, -5.58305085e-01,  8.08866799e-01, -2.01808959e-01,\n",
              "       -1.61570702e-02, -4.20593351e-01,  4.53453034e-01, -7.92390704e-01,\n",
              "        1.35190472e-01, -7.14715421e-01,  4.30440217e-01,  2.47952253e-01,\n",
              "        2.03971326e-01,  5.91336191e-01,  9.31006849e-01, -6.22662127e-01,\n",
              "        8.33789185e-02,  9.09595937e-02, -3.22744995e-01,  4.00398046e-01,\n",
              "       -6.41462505e-01, -7.78425038e-01, -1.54188901e-01,  1.63659558e-01,\n",
              "       -8.64011496e-02, -1.03340149e+00, -5.07677138e-01,  3.47030789e-01,\n",
              "        1.57082647e-01,  6.59836769e-01,  1.42474666e-01, -1.77004948e-01,\n",
              "        1.02708709e+00, -4.18451935e-01, -7.85830021e-01,  6.58337548e-02,\n",
              "        4.17003900e-01,  6.82487488e-01,  1.38895988e-01,  4.43593085e-01,\n",
              "       -1.65315211e-01,  3.97548616e-01, -3.19366157e-01, -2.12423801e-01,\n",
              "        2.13861004e-01, -8.15950483e-02,  2.40351230e-01, -1.39988229e-01,\n",
              "       -3.03273499e-01, -5.74905992e-01, -7.36270308e-01,  6.41122639e-01,\n",
              "       -3.06775957e-01, -4.19073701e-01,  8.13459158e-02, -1.91098884e-01,\n",
              "       -7.38777399e-01, -7.22597778e-01, -9.12200630e-01,  7.31664538e-01,\n",
              "        3.88568193e-01,  4.33126986e-01,  1.70468733e-01,  2.65627414e-01,\n",
              "        3.79607260e-01,  1.64503213e-02, -5.29258549e-01,  2.68180162e-01,\n",
              "       -3.23039070e-02,  3.90952587e-01, -3.66071194e-01, -5.69048643e-01,\n",
              "        6.04605794e-01,  3.30824226e-01, -3.80410075e-01, -2.37098485e-01,\n",
              "        5.73121011e-01, -2.95006037e-01,  2.89463848e-01, -3.63673329e-01,\n",
              "        3.79272848e-01, -3.00895602e-01,  8.11875105e-01,  5.77950537e-01,\n",
              "        2.73818314e-01,  4.44103986e-01,  1.18747331e-01,  5.21103680e-01,\n",
              "       -6.80837154e-01,  4.50043797e-01,  8.16096961e-01, -1.71841547e-01,\n",
              "        2.54229337e-01,  7.79062629e-01, -4.64534312e-01,  5.97203560e-02,\n",
              "       -5.99036217e-01, -7.32488334e-01, -4.43544567e-01,  8.38361621e-01,\n",
              "        4.57709491e-01, -2.95655340e-01,  2.30234832e-01, -6.56692982e-01,\n",
              "       -2.20091455e-02, -4.32123572e-01, -7.04271555e-01, -6.01586521e-01,\n",
              "        4.66925174e-01,  4.77366447e-01,  4.16182488e-01,  1.35405481e-01,\n",
              "        3.65958244e-01, -1.60842180e-01, -2.27813840e-01, -4.35718484e-02,\n",
              "        1.60819888e-02, -4.83802631e-02,  4.69744444e-01, -8.97163972e-02,\n",
              "       -6.70778811e-01,  1.33211583e-01,  2.28516906e-01,  4.47664529e-01,\n",
              "       -5.66218615e-01, -1.40757114e-01,  5.84739894e-02, -5.41027635e-03,\n",
              "       -9.89274919e-01,  8.93060863e-02,  1.02720165e+00, -3.68395001e-01,\n",
              "       -1.18232775e+00, -5.88512242e-01, -3.51723909e-01,  1.46788859e+00,\n",
              "       -1.18112490e-01,  1.25059500e-01, -4.17207927e-01, -2.64794052e-01,\n",
              "       -5.28055012e-01, -5.29913604e-01,  3.12773623e-02, -3.25894535e-01,\n",
              "       -7.55822122e-01,  4.00483221e-01, -2.10807115e-01, -5.78325868e-01,\n",
              "        1.89659595e-01,  2.79718190e-01,  4.55054492e-02, -1.45940259e-01,\n",
              "       -3.07760928e-02, -3.38212997e-01,  5.92345834e-01,  5.71378991e-02,\n",
              "       -1.10105477e-01,  1.73154667e-01, -2.36105606e-01, -1.84402645e-01,\n",
              "        1.46772861e-01,  5.03299952e-01, -5.81760466e-01,  5.19606769e-01,\n",
              "       -1.85782552e-01, -7.95134723e-01, -5.07461786e-01,  1.32091534e+00,\n",
              "        6.82353318e-01,  3.36732226e-03, -5.97019136e-01,  6.78019881e-01,\n",
              "       -8.05759311e-01, -2.35374987e-01, -5.28635859e-01, -7.95048654e-01,\n",
              "       -2.30075836e-01, -6.78221822e-01,  3.41444880e-01, -6.72847256e-02,\n",
              "       -2.09429100e-01,  7.62468576e-01, -1.34295285e-01,  8.84177566e-01,\n",
              "       -8.23771060e-01, -1.09279066e-01, -4.83996004e-01, -6.50589705e-01,\n",
              "        8.60596657e-01,  3.01731545e-02, -1.10282600e+00, -1.18280220e+00,\n",
              "        1.37220636e-01,  1.04745083e-01, -5.61637402e-01, -7.60551095e-02,\n",
              "       -5.75428978e-02, -1.33373654e+00,  4.99482155e-01, -9.61890221e-01,\n",
              "        3.90830219e-01,  1.60160363e+00, -2.63668269e-01, -3.12122375e-01,\n",
              "        3.70776772e-01, -3.97893101e-01,  2.11714476e-01,  2.57436037e-01,\n",
              "        3.54372054e-01, -5.78192472e-01,  1.33962661e-01,  8.75779390e-01,\n",
              "       -1.18956842e-01,  9.50151026e-01,  1.83974415e-01,  2.88584501e-01,\n",
              "        7.16346145e-01,  2.95060396e-01, -1.75686336e+00, -2.23805383e-02,\n",
              "        1.14046015e-01,  4.51445580e-01,  1.24659133e+00, -3.55518430e-01,\n",
              "       -5.88532090e-01,  6.96118832e-01,  7.22236857e-02, -1.04434383e+00,\n",
              "       -3.88036698e-01,  7.69439340e-01, -1.06044817e+00, -2.22335815e-01,\n",
              "        1.08900793e-01,  6.89986587e-01, -1.23251021e+00,  4.36726630e-01,\n",
              "       -2.02164486e-01, -4.11488622e-01, -4.23283368e-01, -7.74775445e-02,\n",
              "       -1.96306601e-01, -3.75756115e-01,  3.82936835e-01, -5.42370975e-02,\n",
              "        5.92593372e-01,  5.40669560e-02, -4.14430499e-01,  2.71162897e-01,\n",
              "       -3.98703426e-01, -8.43133628e-02,  3.98104072e-01,  1.95922613e-01,\n",
              "       -2.07687452e-01,  1.24424279e-01,  3.83200049e-01, -8.77961218e-01,\n",
              "        1.47067606e+00,  5.58643579e-01, -1.01486468e+00, -6.15837812e-01,\n",
              "       -1.65503740e-01,  1.27174273e-01, -8.90925705e-01,  7.96799660e-01,\n",
              "       -2.05170184e-01, -4.56002802e-01,  4.42053914e-01, -3.69696438e-01,\n",
              "        4.69644181e-02,  1.00684738e+00,  8.25793296e-02, -4.51180860e-02,\n",
              "       -3.70477021e-01, -1.86443001e-01,  2.26459011e-01,  5.93180433e-02,\n",
              "        1.28326759e-01,  1.97419584e-01, -3.84050041e-01,  9.21715200e-01,\n",
              "        3.91045570e-01,  6.28125787e-01, -4.67472464e-01, -1.96131110e-01,\n",
              "        1.70007840e-01,  1.24645782e+00, -3.81963283e-01, -1.03773367e+00,\n",
              "        3.27063411e-01, -6.85806274e-01,  3.94279212e-01,  2.93982208e-01,\n",
              "       -6.04760110e-01,  3.45610350e-01,  4.90157664e-01, -2.59591848e-01,\n",
              "        7.21106604e-02,  5.74581265e-01, -4.74805564e-01, -6.10653818e-01,\n",
              "        1.03153467e-01, -1.56369284e-01, -4.56476450e-01,  2.77769685e-01,\n",
              "        1.62651610e+00, -5.92527866e-01,  7.68556073e-02, -7.69880265e-02,\n",
              "       -1.88621849e-01, -3.29970598e-01, -1.11259848e-01,  6.89841986e-01,\n",
              "        4.83376682e-01, -7.80701697e-01,  3.68755311e-01,  3.17137949e-02,\n",
              "        2.43585736e-01,  2.50710398e-01, -9.69931185e-02,  4.76940691e-01,\n",
              "        1.38882899e+00, -4.38735187e-01,  4.62545842e-01,  3.18611592e-01,\n",
              "       -7.36050129e-01,  1.97988182e-01,  9.54695605e-03, -1.42785355e-01,\n",
              "       -1.16891515e+00, -2.45860070e-01, -1.43541798e-01,  8.40246975e-01,\n",
              "       -5.43172657e-01,  3.48181307e-01,  6.87812030e-01,  2.01816827e-01,\n",
              "        5.59090734e-01, -9.28641617e-01,  6.86307192e-01, -6.14667773e-01,\n",
              "       -2.00179055e-01, -7.67702818e-01,  7.84348473e-02,  7.34987497e-01,\n",
              "       -1.13878325e-01,  3.08427453e-01, -3.05497676e-01, -2.80804839e-02,\n",
              "        3.53836268e-01,  9.02942121e-01, -1.38906419e-01,  5.92553496e-01,\n",
              "        4.36892360e-02,  3.08615774e-01, -5.68527043e-01, -8.33560228e-02,\n",
              "        9.02001619e-01,  1.76649407e-01,  4.78315711e-01,  5.54464152e-03,\n",
              "       -3.84207875e-01, -4.36548501e-01,  8.75694871e-01, -8.41248751e-01,\n",
              "        3.80095579e-02, -6.78571090e-02, -2.06528008e-02, -4.68614995e-01,\n",
              "       -9.42635953e-01, -7.15333879e-01,  2.47565862e-02, -1.94335684e-01,\n",
              "       -5.66999555e-01, -2.09883481e-01,  2.49023378e-01,  1.72457129e-01,\n",
              "        3.64088900e-02, -9.97964740e-02, -2.28244171e-01,  7.51108453e-02])"
            ]
          },
          "metadata": {},
          "execution_count": 85
        }
      ]
    },
    {
      "cell_type": "code",
      "source": [
        "dot = np.dot(rep_python_seq1,rep_python_seq2)"
      ],
      "metadata": {
        "id": "dHiYb9aU8icA"
      },
      "execution_count": 87,
      "outputs": []
    },
    {
      "cell_type": "code",
      "source": [
        "norm1 = norm(rep_python_seq1)\n",
        "norm2 = norm(rep_python_seq2)"
      ],
      "metadata": {
        "id": "qdNdb0Wl9Cqz"
      },
      "execution_count": 89,
      "outputs": []
    },
    {
      "cell_type": "code",
      "source": [
        "dot"
      ],
      "metadata": {
        "colab": {
          "base_uri": "https://localhost:8080/"
        },
        "id": "X3haS8Eh9P04",
        "outputId": "068faa14-4868-4e77-fdd9-4be74c13eb5b"
      },
      "execution_count": 92,
      "outputs": [
        {
          "output_type": "execute_result",
          "data": {
            "text/plain": [
              "110.22401178822619"
            ]
          },
          "metadata": {},
          "execution_count": 92
        }
      ]
    },
    {
      "cell_type": "code",
      "source": [
        "norm1"
      ],
      "metadata": {
        "colab": {
          "base_uri": "https://localhost:8080/"
        },
        "id": "ikaPQN3F9MQJ",
        "outputId": "8f5a610c-868b-46a4-fad1-ef4e8986a6f5"
      },
      "execution_count": 90,
      "outputs": [
        {
          "output_type": "execute_result",
          "data": {
            "text/plain": [
              "13.82499538099249"
            ]
          },
          "metadata": {},
          "execution_count": 90
        }
      ]
    },
    {
      "cell_type": "code",
      "source": [
        "norm2"
      ],
      "metadata": {
        "colab": {
          "base_uri": "https://localhost:8080/"
        },
        "id": "dZHtYaQH9OI6",
        "outputId": "adcc6173-872e-4741-dd38-5e29fc671b72"
      },
      "execution_count": 91,
      "outputs": [
        {
          "output_type": "execute_result",
          "data": {
            "text/plain": [
              "15.50101022016286"
            ]
          },
          "metadata": {},
          "execution_count": 91
        }
      ]
    },
    {
      "cell_type": "code",
      "source": [
        "cosine_similarity = dot/(norm1*norm2)"
      ],
      "metadata": {
        "id": "gBtF7EXS9Rzb"
      },
      "execution_count": 93,
      "outputs": []
    },
    {
      "cell_type": "code",
      "source": [
        "cosine_similarity"
      ],
      "metadata": {
        "colab": {
          "base_uri": "https://localhost:8080/"
        },
        "id": "4JM8UQiq9aHm",
        "outputId": "631b0288-375c-4497-e632-e583162fc50d"
      },
      "execution_count": 94,
      "outputs": [
        {
          "output_type": "execute_result",
          "data": {
            "text/plain": [
              "0.5143410846456383"
            ]
          },
          "metadata": {},
          "execution_count": 94
        }
      ]
    }
  ]
}